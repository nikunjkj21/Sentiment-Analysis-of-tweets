{
 "cells": [
  {
   "cell_type": "markdown",
   "metadata": {},
   "source": [
    "# >Importing requisite packages:"
   ]
  },
  {
   "cell_type": "code",
   "execution_count": 254,
   "metadata": {
    "_cell_guid": "79c7e3d0-c299-4dcb-8224-4455121ee9b0",
    "_uuid": "d629ff2d2480ee46fbb7e2d37f6b5fab8052498a"
   },
   "outputs": [],
   "source": [
    "import numpy as np\n",
    "import pandas as pd\n",
    "import matplotlib.pyplot as plt\n",
    "import nltk\n",
    "import re \n",
    "import string \n",
    "import warnings "
   ]
  },
  {
   "cell_type": "markdown",
   "metadata": {},
   "source": [
    "### > Load datasets:"
   ]
  },
  {
   "cell_type": "code",
   "execution_count": 255,
   "metadata": {},
   "outputs": [
    {
     "name": "stdout",
     "output_type": "stream",
     "text": [
      "Test and Train Datasets read\n"
     ]
    }
   ],
   "source": [
    "train_data = pd.read_csv(\"../input/sentiment-analysis-of-tweets/train.txt\",  sep = \",\")\n",
    "test_data = pd.read_csv(\"../input/sentiment-analysis-of-tweets/test_samples.txt\",  sep = \",\")"
   ]
  },
  {
   "cell_type": "markdown",
   "metadata": {},
   "source": [
    "### > Exploratory Data Analysis:"
   ]
  },
  {
   "cell_type": "code",
   "execution_count": 256,
   "metadata": {},
   "outputs": [
    {
     "name": "stdout",
     "output_type": "stream",
     "text": [
      "Data Type :  <class 'pandas.core.frame.DataFrame'>\n"
     ]
    }
   ],
   "source": [
    "print(\"Data Type : \", type(train_data))"
   ]
  },
  {
   "cell_type": "code",
   "execution_count": 257,
   "metadata": {},
   "outputs": [
    {
     "name": "stdout",
     "output_type": "stream",
     "text": [
      "Top ten rows from start:\n",
      "\n"
     ]
    },
    {
     "data": {
      "text/html": [
       "<div>\n",
       "<style scoped>\n",
       "    .dataframe tbody tr th:only-of-type {\n",
       "        vertical-align: middle;\n",
       "    }\n",
       "\n",
       "    .dataframe tbody tr th {\n",
       "        vertical-align: top;\n",
       "    }\n",
       "\n",
       "    .dataframe thead th {\n",
       "        text-align: right;\n",
       "    }\n",
       "</style>\n",
       "<table border=\"1\" class=\"dataframe\">\n",
       "  <thead>\n",
       "    <tr style=\"text-align: right;\">\n",
       "      <th></th>\n",
       "      <th>tweet_id</th>\n",
       "      <th>sentiment</th>\n",
       "      <th>tweet_text</th>\n",
       "    </tr>\n",
       "  </thead>\n",
       "  <tbody>\n",
       "    <tr>\n",
       "      <td>0</td>\n",
       "      <td>264183816548130816</td>\n",
       "      <td>positive</td>\n",
       "      <td>Gas by my house hit $3.39!!!! I\\u2019m going t...</td>\n",
       "    </tr>\n",
       "    <tr>\n",
       "      <td>1</td>\n",
       "      <td>263405084770172928</td>\n",
       "      <td>negative</td>\n",
       "      <td>Theo Walcott is still shit\\u002c watch Rafa an...</td>\n",
       "    </tr>\n",
       "    <tr>\n",
       "      <td>2</td>\n",
       "      <td>262163168678248449</td>\n",
       "      <td>negative</td>\n",
       "      <td>its not that I\\u2019m a GSP fan\\u002c i just h...</td>\n",
       "    </tr>\n",
       "    <tr>\n",
       "      <td>3</td>\n",
       "      <td>264249301910310912</td>\n",
       "      <td>negative</td>\n",
       "      <td>Iranian general says Israel\\u2019s Iron Dome c...</td>\n",
       "    </tr>\n",
       "    <tr>\n",
       "      <td>4</td>\n",
       "      <td>262682041215234048</td>\n",
       "      <td>neutral</td>\n",
       "      <td>Tehran\\u002c Mon Amour: Obama Tried to Establi...</td>\n",
       "    </tr>\n",
       "    <tr>\n",
       "      <td>5</td>\n",
       "      <td>264229576773861376</td>\n",
       "      <td>neutral</td>\n",
       "      <td>I sat through this whole movie just for Harry ...</td>\n",
       "    </tr>\n",
       "    <tr>\n",
       "      <td>6</td>\n",
       "      <td>264105751826538497</td>\n",
       "      <td>positive</td>\n",
       "      <td>with J Davlar 11th. Main rivals are team Polan...</td>\n",
       "    </tr>\n",
       "    <tr>\n",
       "      <td>7</td>\n",
       "      <td>264094586689953794</td>\n",
       "      <td>negative</td>\n",
       "      <td>Talking about ACT\\u2019s &amp;&amp; SAT\\u2019s\\u002c d...</td>\n",
       "    </tr>\n",
       "    <tr>\n",
       "      <td>8</td>\n",
       "      <td>212392538055778304</td>\n",
       "      <td>neutral</td>\n",
       "      <td>Why is \\\"\"Happy Valentines Day\\\"\" trending? It...</td>\n",
       "    </tr>\n",
       "    <tr>\n",
       "      <td>9</td>\n",
       "      <td>254941790757601280</td>\n",
       "      <td>negative</td>\n",
       "      <td>They may have a SuperBowl in Dallas\\u002c but ...</td>\n",
       "    </tr>\n",
       "  </tbody>\n",
       "</table>\n",
       "</div>"
      ],
      "text/plain": [
       "             tweet_id sentiment  \\\n",
       "0  264183816548130816  positive   \n",
       "1  263405084770172928  negative   \n",
       "2  262163168678248449  negative   \n",
       "3  264249301910310912  negative   \n",
       "4  262682041215234048   neutral   \n",
       "5  264229576773861376   neutral   \n",
       "6  264105751826538497  positive   \n",
       "7  264094586689953794  negative   \n",
       "8  212392538055778304   neutral   \n",
       "9  254941790757601280  negative   \n",
       "\n",
       "                                          tweet_text  \n",
       "0  Gas by my house hit $3.39!!!! I\\u2019m going t...  \n",
       "1  Theo Walcott is still shit\\u002c watch Rafa an...  \n",
       "2  its not that I\\u2019m a GSP fan\\u002c i just h...  \n",
       "3  Iranian general says Israel\\u2019s Iron Dome c...  \n",
       "4  Tehran\\u002c Mon Amour: Obama Tried to Establi...  \n",
       "5  I sat through this whole movie just for Harry ...  \n",
       "6  with J Davlar 11th. Main rivals are team Polan...  \n",
       "7  Talking about ACT\\u2019s && SAT\\u2019s\\u002c d...  \n",
       "8  Why is \\\"\"Happy Valentines Day\\\"\" trending? It...  \n",
       "9  They may have a SuperBowl in Dallas\\u002c but ...  "
      ]
     },
     "execution_count": 257,
     "metadata": {},
     "output_type": "execute_result"
    }
   ],
   "source": [
    "print(\"Top ten rows from start:\\n\")\n",
    "train_data.head(10)"
   ]
  },
  {
   "cell_type": "code",
   "execution_count": 258,
   "metadata": {},
   "outputs": [
    {
     "name": "stdout",
     "output_type": "stream",
     "text": [
      "Rows:\n",
      " RangeIndex(start=0, stop=21465, step=1) \n",
      "\n",
      "Columns:\n",
      " Index(['tweet_id', 'sentiment', 'tweet_text'], dtype='object') \n",
      "\n"
     ]
    }
   ],
   "source": [
    "print(\"Rows:\\n\", train_data.index, \"\\n\")\n",
    "print(\"Columns:\\n\", train_data.columns, \"\\n\")"
   ]
  },
  {
   "cell_type": "code",
   "execution_count": 259,
   "metadata": {},
   "outputs": [
    {
     "name": "stdout",
     "output_type": "stream",
     "text": [
      "<class 'pandas.core.frame.DataFrame'>\n",
      "RangeIndex: 21465 entries, 0 to 21464\n",
      "Data columns (total 3 columns):\n",
      "tweet_id      21465 non-null int64\n",
      "sentiment     21465 non-null object\n",
      "tweet_text    21465 non-null object\n",
      "dtypes: int64(1), object(2)\n",
      "memory usage: 503.2+ KB\n",
      "Features and their types:\n",
      " None \n",
      "\n"
     ]
    }
   ],
   "source": [
    "print(\"Features and their types:\\n\",train_data.info(), \"\\n\")"
   ]
  },
  {
   "cell_type": "markdown",
   "metadata": {},
   "source": [
    "#### As it comes out, No column has any missing value."
   ]
  },
  {
   "cell_type": "code",
   "execution_count": 260,
   "metadata": {},
   "outputs": [
    {
     "name": "stdout",
     "output_type": "stream",
     "text": [
      "Null Value Statistics: \n",
      " tweet_id      0\n",
      "sentiment     0\n",
      "tweet_text    0\n",
      "dtype: int64\n"
     ]
    }
   ],
   "source": [
    "print (\"Null Value Statistics:\", '\\n',train_data.isnull().sum()) #Tells the total no. of null values in the loaded dataset"
   ]
  },
  {
   "cell_type": "code",
   "execution_count": 261,
   "metadata": {},
   "outputs": [
    {
     "name": "stdout",
     "output_type": "stream",
     "text": [
      "Shape of Training Data: (21465, 3) \n",
      "\n"
     ]
    }
   ],
   "source": [
    "print(\"Shape of Training Data:\", train_data.shape, \"\\n\")\n",
    "###print(\"Rows in Train dataset = \", train_data.shape[0])\n",
    "###print(\"Columns in Train dataset = \", train_data.shape[1])"
   ]
  },
  {
   "cell_type": "code",
   "execution_count": 262,
   "metadata": {},
   "outputs": [
    {
     "name": "stdout",
     "output_type": "stream",
     "text": [
      "See statistics for non-numerical columns : \n"
     ]
    },
    {
     "data": {
      "text/html": [
       "<div>\n",
       "<style scoped>\n",
       "    .dataframe tbody tr th:only-of-type {\n",
       "        vertical-align: middle;\n",
       "    }\n",
       "\n",
       "    .dataframe tbody tr th {\n",
       "        vertical-align: top;\n",
       "    }\n",
       "\n",
       "    .dataframe thead th {\n",
       "        text-align: right;\n",
       "    }\n",
       "</style>\n",
       "<table border=\"1\" class=\"dataframe\">\n",
       "  <thead>\n",
       "    <tr style=\"text-align: right;\">\n",
       "      <th></th>\n",
       "      <th>sentiment</th>\n",
       "      <th>tweet_text</th>\n",
       "    </tr>\n",
       "  </thead>\n",
       "  <tbody>\n",
       "    <tr>\n",
       "      <td>count</td>\n",
       "      <td>21465</td>\n",
       "      <td>21465</td>\n",
       "    </tr>\n",
       "    <tr>\n",
       "      <td>unique</td>\n",
       "      <td>3</td>\n",
       "      <td>21454</td>\n",
       "    </tr>\n",
       "    <tr>\n",
       "      <td>top</td>\n",
       "      <td>positive</td>\n",
       "      <td>Perseverance is failing 19 times and succeedin...</td>\n",
       "    </tr>\n",
       "    <tr>\n",
       "      <td>freq</td>\n",
       "      <td>9064</td>\n",
       "      <td>6</td>\n",
       "    </tr>\n",
       "  </tbody>\n",
       "</table>\n",
       "</div>"
      ],
      "text/plain": [
       "       sentiment                                         tweet_text\n",
       "count      21465                                              21465\n",
       "unique         3                                              21454\n",
       "top     positive  Perseverance is failing 19 times and succeedin...\n",
       "freq        9064                                                  6"
      ]
     },
     "execution_count": 262,
     "metadata": {},
     "output_type": "execute_result"
    }
   ],
   "source": [
    "print(\"See statistics for non-numerical columns : \")\n",
    "train_data.describe(include=['object'])"
   ]
  },
  {
   "cell_type": "markdown",
   "metadata": {},
   "source": [
    "#### Sentiment column contains 3 labels."
   ]
  },
  {
   "cell_type": "code",
   "execution_count": 263,
   "metadata": {},
   "outputs": [
    {
     "name": "stdout",
     "output_type": "stream",
     "text": [
      "Respective counts for categorical features in the sentiment column:\n"
     ]
    },
    {
     "data": {
      "text/plain": [
       "positive    9064\n",
       "neutral     9014\n",
       "negative    3387\n",
       "Name: sentiment, dtype: int64"
      ]
     },
     "execution_count": 263,
     "metadata": {},
     "output_type": "execute_result"
    }
   ],
   "source": [
    "print(\"Respective counts for categorical features in the sentiment column:\")\n",
    "train_data['sentiment'].value_counts()"
   ]
  },
  {
   "cell_type": "markdown",
   "metadata": {},
   "source": [
    "#### 3 labels are positive, neutral and negative"
   ]
  },
  {
   "cell_type": "code",
   "execution_count": 264,
   "metadata": {},
   "outputs": [
    {
     "name": "stdout",
     "output_type": "stream",
     "text": [
      "Respective percentages for the labels in the sentiment column:\n",
      "positive    42.226881\n",
      "neutral     41.993944\n",
      "negative    15.779175\n",
      "Name: sentiment, dtype: float64\n"
     ]
    },
    {
     "data": {
      "text/plain": [
       "<BarContainer object of 3 artists>"
      ]
     },
     "execution_count": 264,
     "metadata": {},
     "output_type": "execute_result"
    },
    {
     "data": {
      "text/plain": [
       "Text(0.5, 0, 'Sentiment Labels of tweets in train dataset')"
      ]
     },
     "execution_count": 264,
     "metadata": {},
     "output_type": "execute_result"
    },
    {
     "data": {
      "text/plain": [
       "Text(0, 0.5, '%')"
      ]
     },
     "execution_count": 264,
     "metadata": {},
     "output_type": "execute_result"
    },
    {
     "data": {
      "text/plain": [
       "Text(0.5, 1.0, '% of sentiment types of tweet')"
      ]
     },
     "execution_count": 264,
     "metadata": {},
     "output_type": "execute_result"
    },
    {
     "data": {
      "image/png": "[encoded data removed]",
      "text/plain": [
       "<Figure size 432x288 with 1 Axes>"
      ]
     },
     "metadata": {
      "needs_background": "light"
     },
     "output_type": "display_data"
    }
   ],
   "source": [
    "print(\"Respective percentages for the labels in the sentiment column:\")\n",
    "d = train_data['sentiment'].value_counts(normalize = True) * 100\n",
    "print(d)\n",
    "plt.bar(x = d.index, height = d.values, label = d.index, color= ['green','orange','black'])\n",
    "plt.xlabel(\"Sentiment Labels of tweets in train dataset\")\n",
    "plt.ylabel(\"%\")\n",
    "plt.title(\"% of sentiment types of tweet\")\n",
    "plt.show()"
   ]
  },
  {
   "cell_type": "markdown",
   "metadata": {},
   "source": [
    "#### As can be seen from above analysis: \n",
    "##### **Positive** tweets occupy **42.27%** of the total tweets.\n",
    "##### **Neutral** tweets occupy **41.99%** of the total tweets.\n",
    "##### **Negative** tweets occupy **15.78%** of the total tweets."
   ]
  },
  {
   "cell_type": "markdown",
   "metadata": {},
   "source": [
    "### Unnecessary 'tweet_id'  column is to be from the provided train dataset."
   ]
  },
  {
   "cell_type": "code",
   "execution_count": 265,
   "metadata": {},
   "outputs": [
    {
     "name": "stdout",
     "output_type": "stream",
     "text": [
      "Col 'tweet_id' is removed from the train dataset.\n",
      "      sentiment                                         tweet_text\n",
      "0      positive  Gas by my house hit $3.39!!!! I\\u2019m going t...\n",
      "1      negative  Theo Walcott is still shit\\u002c watch Rafa an...\n",
      "2      negative  its not that I\\u2019m a GSP fan\\u002c i just h...\n",
      "3      negative  Iranian general says Israel\\u2019s Iron Dome c...\n",
      "4       neutral  Tehran\\u002c Mon Amour: Obama Tried to Establi...\n",
      "...         ...                                                ...\n",
      "21460   neutral  the day after newark ill be able to say \"\"i me...\n",
      "21461   neutral  FEC hold farewell session for seven ministers ...\n",
      "21462   neutral  Luca Di Montezemolo (who's last day was Monday...\n",
      "21463  positive  Coffee is pretty much the answer to all questi...\n",
      "21464   neutral  Niki Lauda just confirmed to Sky that Alonso w...\n",
      "\n",
      "[21465 rows x 2 columns]\n"
     ]
    }
   ],
   "source": [
    "del train_data['tweet_id'] \n",
    "if (train_data.columns.tolist() == ['sentiment', 'tweet_text']):\n",
    "  print(\"Col 'tweet_id' is removed from the train dataset.\")\n",
    "print(train_data)"
   ]
  },
  {
   "cell_type": "markdown",
   "metadata": {},
   "source": [
    "### >Steps for carrying out Data Cleaning:\n",
    "1.  Short Words lookup\n",
    "2.  Emoticon(smiley) lookup \n",
    "3.  Lowercasing\n",
    "4.  Apostrophe's contractions lookup\n",
    "5.  Replacing unicode emojis with associated emotion.\n",
    "6.  Removing rest unicoded emojis.\n",
    "7.  Removing non-ASCII characters.\n",
    "8.  Removing numbers.\n",
    "9.  Removing \"#\". \n",
    "10.  Removing \"@\". \n",
    "11. Removing usernames.\n",
    "12. Removing 'RT'. \n",
    "13. Replacing all URLs and Links with word 'URL'.\n",
    "14. Removing punctuations symbols\n",
    "15. Removing special characters\n",
    "16. Removing unit length words"
   ]
  },
  {
   "cell_type": "code",
   "execution_count": 266,
   "metadata": {},
   "outputs": [
    {
     "name": "stdout",
     "output_type": "stream",
     "text": [
      "Data Cleaning follows: \n",
      "\n",
      "Cleaning the tweets from the data.\n",
      "\n",
      "Tweets are cleaned.\n",
      "      sentiment                                         tweet_text\n",
      "0      positive  gas by my house hit im going to chapel hill on...\n",
      "1      negative  theo walcott is still shit watch rafa and john...\n",
      "2      negative  its not that im gsp fan just hate nick diaz ca...\n",
      "3      negative  iranian general says israels iron dome cant de...\n",
      "4       neutral  tehran mon amour obama tried to establish ties...\n",
      "...         ...                                                ...\n",
      "21460   neutral  the day after newark ill be able to say met de...\n",
      "21461   neutral  fec hold farewell session for seven ministers ...\n",
      "21462   neutral  luca di montezemolo who last day was monday on...\n",
      "21463  positive  coffee is pretty much the answer to all questi...\n",
      "21464   neutral  niki lauda just confirmed to sky that alonso w...\n",
      "\n",
      "[21465 rows x 2 columns]\n"
     ]
    }
   ],
   "source": [
    "from string import punctuation\n",
    "print(\"Data Cleaning follows: \\n\")\n",
    "\n",
    "# emoticon lookup\n",
    "def replace_smileys(t):\n",
    "  '''\n",
    "  Replaces happy smileys with \"happy\" and sad smileys with \"sad\".\n",
    "  '''\n",
    "  emoti_happy = set([':-)', ':)', ';)', ':o)', ':]', ':3', ':c)', ':>', '=]', '8)', '=)', ':}', ':D',\n",
    "    ':^)', ':-D', ':D', '8-D', '8D', 'x-D', 'xD', 'X-D', 'XD', '=-D', '=D',\n",
    "    '=-3', '=3', ':-))', \":'-)\", \":')\", ':*', ':^*', '>:P', ':-P', ':P', 'X-P',\n",
    "    'x-p', 'xp', 'XP', ':-p', ':p', '=p', ':-b', ':b', '>:)', '>;)', '>:-)', '<3'])\n",
    "\n",
    "  emoti_sad = set([':L', ':-/', '>:/', ':S', '>:[', ':@', ':-(', ':[', ':-||', '=L', ':<',\n",
    "    ':-[', ':-<', '=\\\\', '=/', '>:(', ':(', '>.<', \":'-(\", \":'(\", ':\\\\', ':-c',\n",
    "    ':c', ':{', '>:\\\\', ';('])  \n",
    "\n",
    "  words = t.split()\n",
    "  reformed = []\n",
    "  for w in words:\n",
    "    if w in emoti_happy:\n",
    "      reformed.append(\"happy\")\n",
    "    elif w in emoti_sad:\n",
    "      reformed.append(\"sad\") \n",
    "    else:\n",
    "      reformed.append(w)\n",
    "  t = \" \".join(reformed)\n",
    "  return t\n",
    "\n",
    "\n",
    "# emojis lookup\n",
    "emoji_pattern = re.compile(\"[\"\n",
    "         u\"\\U0001F300-\\U0001F5FF\" \n",
    "         u\"\\U0001F680-\\U0001F6FF\"  \n",
    "         u\"\\U0001F1E0-\\U0001F1FF\"  \n",
    "         u\"\\U00002702-\\U000027B0\"\n",
    "         u\"\\U000024C2-\\U0001F251\"\n",
    "         \"]+\", flags=re.UNICODE)\n",
    "\n",
    "def replace_emojis(t):\n",
    "  '''\n",
    "  Replace happy emotion unicode emojis with \"happy\" & sad emotion unicode emojis with \"sad\".\n",
    "  '''\n",
    "  emoji_happy = [\"\\U0001F600\", \"\\U0001F601\", \"\\U0001F602\",\"\\U0001F603\",\"\\U0001F604\",\"\\U0001F605\", \"\\U0001F606\", \"\\U0001F607\", \"\\U0001F609\", \n",
    "                \"\\U0001F60A\", \"\\U0001F642\",\"\\U0001F643\",\"\\U0001F923\",r\"\\U0001F970\",\"\\U0001F60D\", r\"\\U0001F929\",\"\\U0001F618\",\"\\U0001F617\",\n",
    "                r\"\\U000263A\", \"\\U0001F61A\", \"\\U0001F619\", r\"\\U0001F972\", \"\\U0001F60B\", \"\\U0001F61B\", \"\\U0001F61C\", r\"\\U0001F92A\",\n",
    "                \"\\U0001F61D\", \"\\U0001F911\", \"\\U0001F917\", r\"\\U0001F92D\", r\"\\U0001F92B\",\"\\U0001F914\",\"\\U0001F910\", r\"\\U0001F928\", \"\\U0001F610\", \"\\U0001F611\",\n",
    "                \"\\U0001F636\", \"\\U0001F60F\",\"\\U0001F612\", \"\\U0001F644\",\"\\U0001F62C\",\"\\U0001F925\",\"\\U0001F60C\",\"\\U0001F614\",\"\\U0001F62A\",\n",
    "                \"\\U0001F924\",\"\\U0001F634\", \"\\U0001F920\", r\"\\U0001F973\", r\"\\U0001F978\",\"\\U0001F60E\",\"\\U0001F913\", r\"\\U0001F9D0\"]\n",
    "\n",
    "  emoji_sad = [\"\\U0001F637\",\"\\U0001F912\",\"\\U0001F915\",\"\\U0001F922\", r\"\\U0001F92E\",\"\\U0001F927\", r\"\\U0001F975\", r\"\\U0001F976\", r\"\\U0001F974\",\n",
    "                       \"\\U0001F635\", r\"\\U0001F92F\", \"\\U0001F615\",\"\\U0001F61F\",\"\\U0001F641\", r\"\\U0002639\",\"\\U0001F62E\",\"\\U0001F62F\",\"\\U0001F632\",\n",
    "                       \"\\U0001F633\", r\"\\U0001F97A\",\"\\U0001F626\",\"\\U0001F627\",\"\\U0001F628\",\"\\U0001F630\",\"\\U0001F625\",\"\\U0001F622\",\"\\U0001F62D\",\n",
    "                       \"\\U0001F631\",\"\\U0001F616\",\"\\U0001F623\"\t,\"\\U0001F61E\",\"\\U0001F613\",\"\\U0001F629\",\"\\U0001F62B\", r\"\\U0001F971\",\n",
    "                       \"\\U0001F624\",\"\\U0001F621\",\"\\U0001F620\", r\"\\U0001F92C\",\"\\U0001F608\",\"\\U0001F47F\",\"\\U0001F480\", r\"\\U0002620\"]\n",
    "\n",
    "  words = t.split()\n",
    "  reformed = []\n",
    "  for w in words:\n",
    "    if w in emoji_happy:\n",
    "      reformed.append(\"happy\")\n",
    "    elif w in emoji_sad:\n",
    "      reformed.append(\"sad\") \n",
    "    else:\n",
    "      reformed.append(w)\n",
    "  t = \" \".join(reformed)\n",
    "  return t\n",
    "\n",
    "# short word lookup\n",
    "def short_word_lookup(t):\n",
    "  '''\n",
    "  replaces common shorthands to full\n",
    "  '''  \n",
    "  short_word_dict = {\n",
    "\"121\": \"one to one\",\n",
    "\"a/s/l\": \"age, sex, location\",\n",
    "\"adn\": \"any day now\",\n",
    "\"afaik\": \"as far as I know\",\n",
    "\"afk\": \"away from keyboard\",\n",
    "\"aight\": \"alright\",\n",
    "\"alol\": \"actually laughing out loud\",\n",
    "\"b4\": \"before\",\n",
    "\"b4n\": \"bye for now\",\n",
    "\"bak\": \"back at the keyboard\",\n",
    "\"bf\": \"boyfriend\",\n",
    "\"bff\": \"best friends forever\",\n",
    "\"bfn\": \"bye for now\",\n",
    "\"bg\": \"big grin\",\n",
    "\"bta\": \"but then again\",\n",
    "\"btw\": \"by the way\",\n",
    "\"cid\": \"crying in disgrace\",\n",
    "\"cnp\": \"continued in my next post\",\n",
    "\"cp\": \"chat post\",\n",
    "\"cu\": \"see you\",\n",
    "\"cul\": \"see you later\",\n",
    "\"cul8r\": \"see you later\",\n",
    "\"cya\": \"bye\",\n",
    "\"cyo\": \"see you online\",\n",
    "\"dbau\": \"doing business as usual\",\n",
    "\"fud\": \"fear, uncertainty, and doubt\",\n",
    "\"fwiw\": \"for what it's worth\",\n",
    "\"fyi\": \"for your information\",\n",
    "\"g\": \"grin\",\n",
    "\"g2g\": \"got to go\",\n",
    "\"ga\": \"go ahead\",\n",
    "\"gal\": \"get a life\",\n",
    "\"gf\": \"girlfriend\",\n",
    "\"gfn\": \"gone for now\",\n",
    "\"gmbo\": \"giggling my butt off\",\n",
    "\"gmta\": \"great minds think alike\",\n",
    "\"h8\": \"hate\",\n",
    "\"hagn\": \"have a good night\",\n",
    "\"hdop\": \"help delete online predators\",\n",
    "\"hhis\": \"hanging head in shame\",\n",
    "\"iac\": \"in any case\",\n",
    "\"ianal\": \"I am not a lawyer\",\n",
    "\"ic\": \"I see\",\n",
    "\"idk\": \"I don't know\",\n",
    "\"imao\": \"in my arrogant opinion\",\n",
    "\"imnsho\": \"in my not so humble opinion\",\n",
    "\"imo\": \"in my opinion\",\n",
    "\"iow\": \"in other words\",\n",
    "\"ipn\": \"I’m posting naked\",\n",
    "\"irl\": \"in real life\",\n",
    "\"jk\": \"just kidding\",\n",
    "\"l8r\": \"later\",\n",
    "\"ld\": \"later, dude\",\n",
    "\"ldr\": \"long distance relationship\",\n",
    "\"llta\": \"lots and lots of thunderous applause\",\n",
    "\"lmao\": \"laugh my ass off\",\n",
    "\"lmirl\": \"let's meet in real life\",\n",
    "\"lol\": \"laugh out loud\",\n",
    "\"ltr\": \"longterm relationship\",\n",
    "\"lulab\": \"love you like a brother\",\n",
    "\"lulas\": \"love you like a sister\",\n",
    "\"luv\": \"love\",\n",
    "\"m/f\": \"male or female\",\n",
    "\"m8\": \"mate\",\n",
    "\"milf\": \"mother I would like to fuck\",\n",
    "\"oll\": \"online love\",\n",
    "\"omg\": \"oh my god\",\n",
    "\"otoh\": \"on the other hand\",\n",
    "\"pir\": \"parent in room\",\n",
    "\"ppl\": \"people\",\n",
    "\"r\": \"are\",\n",
    "\"rofl\": \"roll on the floor laughing\",\n",
    "\"rpg\": \"role playing games\",\n",
    "\"ru\": \"are you\",\n",
    "\"shid\": \"slaps head in disgust\",\n",
    "\"somy\": \"sick of me yet\",\n",
    "\"sot\": \"short of time\",\n",
    "\"thanx\": \"thanks\",\n",
    "\"thx\": \"thanks\",\n",
    "\"ttyl\": \"talk to you later\",\n",
    "\"u\": \"you\",\n",
    "\"ur\": \"you are\",\n",
    "\"uw\": \"you’re welcome\",\n",
    "\"wb\": \"welcome back\",\n",
    "\"wfm\": \"works for me\",\n",
    "\"wibni\": \"wouldn't it be nice if\",\n",
    "\"wtf\": \"what the fuck\",\n",
    "\"wtg\": \"way to go\",\n",
    "\"wtgp\": \"want to go private\",\n",
    "\"ym\": \"young man\",\n",
    "\"gr8\": \"great\"\n",
    "}\n",
    "  words = t.split()\n",
    "  reformed = []\n",
    "  for w in words:\n",
    "    if w in short_word_dict:\n",
    "      reformed.append(short_word_dict[w])\n",
    "    else:\n",
    "      reformed.append(w)\n",
    "  t = \" \".join(reformed)\n",
    "  return t\n",
    "\n",
    "def replace_contractions(t):\n",
    "  '''\n",
    "  Apostrophe's lookup\n",
    "  '''\n",
    "  cont = {\n",
    "\"ain't\": \"am not / are not\",\n",
    "\"aren't\": \"are not / am not\",\n",
    "\"can't\": \"cannot\",\n",
    "\"can't've\": \"cannot have\",\n",
    "\"'cause\": \"because\",\n",
    "\"could've\": \"could have\",\n",
    "\"couldn't\": \"could not\",\n",
    "\"couldn't've\": \"could not have\",\n",
    "\"didn't\": \"did not\",\n",
    "\"doesn't\": \"does not\",\n",
    "\"don't\": \"do not\",\n",
    "\"hadn't\": \"had not\",\n",
    "\"hadn't've\": \"had not have\",\n",
    "\"hasn't\": \"has not\",\n",
    "\"haven't\": \"have not\",\n",
    "\"he'd\": \"he had / he would\",\n",
    "\"he'd've\": \"he would have\",\n",
    "\"he'll\": \"he shall / he will\",\n",
    "\"he'll've\": \"he shall have / he will have\",\n",
    "\"he's\": \"he has / he is\",\n",
    "\"how'd\": \"how did\",\n",
    "\"how'd'y\": \"how do you\",\n",
    "\"how'll\": \"how will\",\n",
    "\"how's\": \"how has / how is\",\n",
    "\"i'd\": \"I had / I would\",\n",
    "\"i'd've\": \"I would have\",\n",
    "\"i'll\": \"I shall / I will\",\n",
    "\"i'll've\": \"I shall have / I will have\",\n",
    "\"i'm\": \"I am\",\n",
    "\"i've\": \"I have\",\n",
    "\"isn't\": \"is not\",\n",
    "\"it'd\": \"it had / it would\",\n",
    "\"it'd've\": \"it would have\",\n",
    "\"it'll\": \"it shall / it will\",\n",
    "\"it'll've\": \"it shall have / it will have\",\n",
    "\"it's\": \"it has / it is\",\n",
    "\"let's\": \"let us\",\n",
    "\"ma'am\": \"madam\",\n",
    "\"mayn't\": \"may not\",\n",
    "\"might've\": \"might have\",\n",
    "\"mightn't\": \"might not\",\n",
    "\"mightn't've\": \"might not have\",\n",
    "\"must've\": \"must have\",\n",
    "\"mustn't\": \"must not\",\n",
    "\"mustn't've\": \"must not have\",\n",
    "\"needn't\": \"need not\",\n",
    "\"needn't've\": \"need not have\",\n",
    "\"o'clock\": \"of the clock\",\n",
    "\"oughtn't\": \"ought not\",\n",
    "\"oughtn't've\": \"ought not have\",\n",
    "\"shan't\": \"shall not\",\n",
    "\"sha'n't\": \"shall not\",\n",
    "\"shan't've\": \"shall not have\",\n",
    "\"she'd\": \"she had / she would\",\n",
    "\"she'd've\": \"she would have\",\n",
    "\"she'll\": \"she shall / she will\",\n",
    "\"she'll've\": \"she shall have / she will have\",\n",
    "\"she's\": \"she has / she is\",\n",
    "\"should've\": \"should have\",\n",
    "\"shouldn't\": \"should not\",\n",
    "\"shouldn't've\": \"should not have\",\n",
    "\"so've\": \"so have\",\n",
    "\"so's\": \"so as / so is\",\n",
    "\"that'd\": \"that would / that had\",\n",
    "\"that'd've\": \"that would have\",\n",
    "\"that's\": \"that has / that is\",\n",
    "\"there'd\": \"there had / there would\",\n",
    "\"there'd've\": \"there would have\",\n",
    "\"there's\": \"there has / there is\",\n",
    "\"they'd\": \"they had / they would\",\n",
    "\"they'd've\": \"they would have\",\n",
    "\"they'll\": \"they shall / they will\",\n",
    "\"they'll've\": \"they shall have / they will have\",\n",
    "\"they're\": \"they are\",\n",
    "\"they've\": \"they have\",\n",
    "\"to've\": \"to have\",\n",
    "\"wasn't\": \"was not\",\n",
    "\"we'd\": \"we had / we would\",\n",
    "\"we'd've\": \"we would have\",\n",
    "\"we'll\": \"we will\",\n",
    "\"we'll've\": \"we will have\",\n",
    "\"we're\": \"we are\",\n",
    "\"we've\": \"we have\",\n",
    "\"weren't\": \"were not\",\n",
    "\"what'll\": \"what shall / what will\",\n",
    "\"what'll've\": \"what shall have / what will have\",\n",
    "\"what're\": \"what are\",\n",
    "\"what's\": \"what has / what is\",\n",
    "\"what've\": \"what have\",\n",
    "\"when's\": \"when has / when is\",\n",
    "\"when've\": \"when have\",\n",
    "\"where'd\": \"where did\",\n",
    "\"where's\": \"where has / where is\",\n",
    "\"where've\": \"where have\",\n",
    "\"who'll\": \"who shall / who will\",\n",
    "\"who'll've\": \"who shall have / who will have\",\n",
    "\"who's\": \"who has / who is\",\n",
    "\"who've\": \"who have\",\n",
    "\"why's\": \"why has / why is\",\n",
    "\"why've\": \"why have\",\n",
    "\"will've\": \"will have\",\n",
    "\"won't\": \"will not\",\n",
    "\"won't've\": \"will not have\",\n",
    "\"would've\": \"would have\",\n",
    "\"wouldn't\": \"would not\",\n",
    "\"wouldn't've\": \"would not have\",\n",
    "\"y'all\": \"you all\",\n",
    "\"y'all'd\": \"you all would\",\n",
    "\"y'all'd've\": \"you all would have\",\n",
    "\"y'all're\": \"you all are\",\n",
    "\"y'all've\": \"you all have\",\n",
    "\"you'd\": \"you had / you would\",\n",
    "\"you'd've\": \"you would have\",\n",
    "\"you'll\": \"you shall / you will\",\n",
    "\"you'll've\": \"you shall have / you will have\",\n",
    "\"you're\": \"you are\",\n",
    "\"you've\": \"you have\"\n",
    " }\n",
    "  words = t.split()\n",
    "  reformed = []\n",
    "  for w in words:\n",
    "    if w in cont:\n",
    "      reformed.append(cont[w])\n",
    "    else:\n",
    "      reformed.append(w)\n",
    "  t = \" \".join(reformed)\n",
    "  return t  \n",
    "\n",
    "def remove_single_letter_words(t):\n",
    "  '''\n",
    "  Remove unit length words.\n",
    "  '''\n",
    "  words = t.split()\n",
    "  reformed = []\n",
    "  for w in words:\n",
    "    if len(w) > 1:\n",
    "      reformed.append(w)\n",
    "  t = \" \".join(reformed)\n",
    "  return t  \n",
    "\n",
    "def dataclean(t):\n",
    "  '''\n",
    "  This function cleans the tweets.\n",
    "  '''\n",
    "  t = short_word_lookup(t)\n",
    "  t = replace_smileys(t) # replace handwritten emojis with their feeling associated\n",
    "  t = t.lower() \n",
    "  t = replace_contractions(t) # replace short forms used in english  with their actual words\n",
    "  t = replace_emojis(t) # replace unicode emojis with their feeling associated\n",
    "  t = emoji_pattern.sub(r'', t) # remove emojis other than smiley emojis\n",
    "  t = re.sub('\\\\\\\\u[0-9A-Fa-f]{4}','', t) # remove NON- ASCII characters\n",
    "  t = re.sub(\"[0-9]\", \" \", t) # remove integers with space # re.sub(\"\\d+\", \"\", t)\n",
    "  t = re.sub('#', '', t) # remove '#'\n",
    "  t = re.sub('@[A-Za-z0–9]+', '', t) # remove '@'\n",
    "\n",
    "  t = re.sub('@[^\\s]+', '', t) # remove usernames\n",
    " \n",
    "  t = re.sub('RT[\\s]+', '', t) # remove retweet 'RT'\n",
    "  t = re.sub('((www\\.[^\\s]+)|(https?://[^\\s]+))', '', t) # remove URL's\n",
    "  t = re.sub('[!\"$%&\\'()*+,-./:@;<=>?[\\\\]^_`{|}~]', ' ', t) # remove punctuations with space\n",
    "  t = re.sub(r'[^a-zA-Z0-9]',' ', t) # remove speacial characters with space\n",
    "  t = remove_single_letter_words(t) \n",
    "  return t\n",
    "\n",
    "print(\"Cleaning the tweets from the data.\\n\")\n",
    "\n",
    "train_data['tweet_text'] = train_data['tweet_text'].apply(dataclean)\n",
    "print(\"Tweets are cleaned.\")\n",
    "print(train_data)"
   ]
  },
  {
   "cell_type": "markdown",
   "metadata": {},
   "source": [
    "### >Data Preprocessing follows (Tokenization, Removing Stopwords, Lemmatization):"
   ]
  },
  {
   "cell_type": "code",
   "execution_count": 267,
   "metadata": {
    "scrolled": true
   },
   "outputs": [
    {
     "name": "stdout",
     "output_type": "stream",
     "text": [
      "Preprocessing the tweets...\n",
      "After preprocessing. ['gas house hit im go chapel hill sit happy', 'theo walcott still shit watch rafa johnny deal saturday', 'im gsp fan hate nick diaz cant wait february', 'iranian general say israels iron dome cant deal missiles keep talk like may end find', 'tehran mon amour obama try establish tie mullahs via com barack obama vote mitt romney']\n",
      "Top 20 words used in the tweets are : \n",
      " ['gas', 'house', 'hit', 'im', 'go', 'chapel', 'hill', 'sit', 'happy', 'theo', 'walcott', 'still', 'shit', 'watch', 'rafa', 'johnny', 'deal', 'saturday', 'im', 'gsp']\n",
      "\n",
      "Frequency distribution of top 20 words in the tweets.\n",
      "\n",
      "<FreqDist with 27843 samples and 248475 outcomes>\n",
      "Top 20 most common words in the data. \n",
      "\n",
      "      Tokens  Frequency\n",
      "0   tomorrow       3591\n",
      "1         go       2891\n",
      "2        may       2880\n",
      "3         th       2780\n",
      "4        get       2070\n",
      "5        day       1790\n",
      "6        see       1517\n",
      "7      night       1485\n",
      "8         st       1465\n",
      "9       time       1331\n",
      "10      game       1316\n",
      "11     happy       1270\n",
      "12     watch       1247\n",
      "13    friday       1247\n",
      "14      like       1224\n",
      "15      come       1175\n",
      "16    sunday       1114\n",
      "17  saturday       1081\n",
      "18      make       1075\n",
      "19       new        927\n"
     ]
    },
    {
     "data": {
      "image/png": "[encoded data removed]",
      "text/plain": [
       "<Figure size 432x288 with 1 Axes>"
      ]
     },
     "metadata": {
      "needs_background": "light"
     },
     "output_type": "display_data"
    }
   ],
   "source": [
    "def freq_words(tokens):\n",
    "  from nltk.probability import FreqDist\n",
    "  \n",
    "  fdist = FreqDist(tokens)\n",
    "  print(fdist)\n",
    "\n",
    "  print(\"Top 20 most common words in the data. \\n\")\n",
    "  df = pd.DataFrame(fdist.most_common(20), columns=['Tokens', 'Frequency'])\n",
    "  print(df)\n",
    "\n",
    "  fdist.plot(20, cumulative = False)\n",
    "  plt.show()\n",
    "\n",
    "def preprocess(t):\n",
    "  from nltk.tokenize import word_tokenize\n",
    "  from nltk.corpus import stopwords\n",
    "  stop_words = set(stopwords.words('english'))\n",
    "   \n",
    "  from nltk.stem.wordnet import WordNetLemmatizer\n",
    "  lem = WordNetLemmatizer()\n",
    "  \n",
    "  # tokenization\n",
    "  tw = []  \n",
    "  tw = word_tokenize(t)  \n",
    "  \n",
    "  # remove the stopwords\n",
    "  fs = [] \n",
    "  fs = ([i for i in tw if i not in stop_words])\n",
    "  \n",
    "  # lemmatization  \n",
    "  ns = []\n",
    "  for i in fs:\n",
    "    ns.append(lem.lemmatize(i, 'v'))\n",
    "  ns = ' '.join(ns)\n",
    "  return ns  \n",
    "\n",
    "print(\"Preprocessing the tweets...\")\n",
    "  \n",
    "pp_list = []\n",
    "for tweet in train_data['tweet_text']:\n",
    "  pp_list.append(preprocess(tweet))\n",
    "print(\"After preprocessing.\", pp_list[:5])\n",
    "\n",
    "from nltk.tokenize import word_tokenize\n",
    "tokens = []\n",
    "for i in pp_list:\n",
    "  tokens.extend(word_tokenize(i))\n",
    "print(\"Top 20 words used in the tweets are : \\n\", tokens[:20])\n",
    "print(\"\\nFrequency distribution of top 20 words in the tweets.\\n\")\n",
    "freq_words(tokens)"
   ]
  },
  {
   "cell_type": "markdown",
   "metadata": {},
   "source": [
    "### >Split - 80% and 20% of the train data into training and validation:"
   ]
  },
  {
   "cell_type": "code",
   "execution_count": 268,
   "metadata": {},
   "outputs": [
    {
     "name": "stdout",
     "output_type": "stream",
     "text": [
      "Data points in training data :\n",
      "\n",
      "x1 =  17172\n",
      "y1 =  17172\n",
      "\n",
      "Data points in validation data :\n",
      "\n",
      "x2 =  4293\n",
      "y2 =  4293\n"
     ]
    }
   ],
   "source": [
    "from sklearn.model_selection import train_test_split  \n",
    "x = pp_list\n",
    "y = train_data['sentiment'].values\n",
    "x_train, x_val, y_train, y_val = train_test_split(x, y, test_size=0.2, random_state = 1)\n",
    "print(\"Data points in training data :\\n\")\n",
    "print(\"x1 = \", len(x_train))\n",
    "print(\"y1 = \", len(y_train))\n",
    "\n",
    "print(\"\\nData points in validation data :\\n\")\n",
    "print(\"x2 = \", len(x_val))\n",
    "print(\"y2 = \", len(y_val))"
   ]
  },
  {
   "cell_type": "markdown",
   "metadata": {},
   "source": [
    "### >Generating the Feature:"
   ]
  },
  {
   "cell_type": "code",
   "execution_count": 269,
   "metadata": {},
   "outputs": [
    {
     "name": "stdout",
     "output_type": "stream",
     "text": [
      "Using TF-IDF approach \n",
      "\n",
      "Shape of training data :  (17172, 24218) \n",
      "Shape of validation data :  (4293, 24218)\n"
     ]
    }
   ],
   "source": [
    "print(\"Using TF-IDF approach \\n\")\n",
    "\n",
    "from sklearn.feature_extraction.text import TfidfTransformer\n",
    "from sklearn.feature_extraction.text import TfidfVectorizer\n",
    "\n",
    "vectorizer = TfidfVectorizer()\n",
    "train_vectors = vectorizer.fit_transform(x_train)\n",
    "\n",
    "val_vectors = vectorizer.transform(x_val)\n",
    "print(\"Shape of training data : \",train_vectors.shape, \"\\nShape of validation data : \",val_vectors.shape)"
   ]
  },
  {
   "cell_type": "markdown",
   "metadata": {},
   "source": [
    "### >Building the SVM model ie Support Vector Machine:"
   ]
  },
  {
   "cell_type": "code",
   "execution_count": 270,
   "metadata": {
    "scrolled": true
   },
   "outputs": [
    {
     "data": {
      "text/plain": [
       "SVC(C=1.0, cache_size=200, class_weight=None, coef0=0.0,\n",
       "    decision_function_shape='ovr', degree=3, gamma='auto_deprecated',\n",
       "    kernel='linear', max_iter=-1, probability=False, random_state=None,\n",
       "    shrinking=True, tol=0.001, verbose=False)"
      ]
     },
     "execution_count": 270,
     "metadata": {},
     "output_type": "execute_result"
    },
    {
     "name": "stdout",
     "output_type": "stream",
     "text": [
      "\n",
      "SVM model is now trained.\n"
     ]
    }
   ],
   "source": [
    "from sklearn import svm\n",
    "model_SVM = svm.SVC(kernel='linear')\n",
    "model_SVM.fit(train_vectors, y_train)\n",
    "print(\"\\nSVM model is now trained.\")"
   ]
  },
  {
   "cell_type": "markdown",
   "metadata": {},
   "source": [
    "### >Testing the Model on the Validation Dataset:"
   ]
  },
  {
   "cell_type": "code",
   "execution_count": 271,
   "metadata": {
    "scrolled": true
   },
   "outputs": [
    {
     "name": "stdout",
     "output_type": "stream",
     "text": [
      "Testing our Model's performance...\n",
      "\n",
      "Analysis after prediction : \n",
      "\n",
      "neutral     51.15304\n",
      "positive    40.11181\n",
      "negative     8.73515\n",
      "Name: predicted, dtype: float64\n"
     ]
    },
    {
     "data": {
      "image/png": "[encoded data removed]",
      "text/plain": [
       "<Figure size 432x288 with 1 Axes>"
      ]
     },
     "metadata": {
      "needs_background": "light"
     },
     "output_type": "display_data"
    },
    {
     "name": "stdout",
     "output_type": "stream",
     "text": [
      "Confusion Matrix :\n",
      " [[ 229  328  104]\n",
      " [ 109 1322  399]\n",
      " [  37  546 1219]]\n",
      "classification report: \n",
      "               precision    recall  f1-score   support\n",
      "\n",
      "    negative       0.61      0.35      0.44       661\n",
      "     neutral       0.60      0.72      0.66      1830\n",
      "    positive       0.71      0.68      0.69      1802\n",
      "\n",
      "    accuracy                           0.65      4293\n",
      "   macro avg       0.64      0.58      0.60      4293\n",
      "weighted avg       0.65      0.65      0.64      4293\n",
      "\n",
      "Accuracy score  =  64.52364313999534\n"
     ]
    }
   ],
   "source": [
    "def performance(model, y_true, vectors):\n",
    "  from sklearn.metrics import classification_report, confusion_matrix, accuracy_score\n",
    "  y_pred = model.predict(vectors)   \n",
    "  df = pd.DataFrame({'actual' : y_true, 'predicted' : y_pred})\n",
    "  print(\"\\nAnalysis after prediction : \\n\")\n",
    "  d = df['predicted'].value_counts(normalize = True) * 100 \n",
    "  print(d)\n",
    "  \n",
    "  plt.bar(x = d.index, height = d.values, label = d.index, color= ['green','orange','black'])\n",
    "  plt.xlabel(\"Sentiments\")\n",
    "  plt.ylabel(\"Percentage\")\n",
    "  plt.title('Sentiment Analysis')\n",
    "  plt.show()\n",
    "  \n",
    "  cm = confusion_matrix(y_true,y_pred)\n",
    "  crp = classification_report(y_true,y_pred)\n",
    "  acc = accuracy_score(y_true,y_pred)\n",
    "  return (cm, crp, acc)\n",
    "\n",
    "print(\"Testing our Model's performance...\")\n",
    "perform = performance(model_SVM, y_val, val_vectors)\n",
    "print(\"Confusion Matrix :\\n\", perform[0])  \n",
    "print(\"classification report: \\n\", perform[1])  \n",
    "print(\"Accuracy score  = \", perform[2] *100)"
   ]
  },
  {
   "cell_type": "markdown",
   "metadata": {},
   "source": [
    "### SVM Model gives an accuracy of 64.52%"
   ]
  },
  {
   "cell_type": "markdown",
   "metadata": {},
   "source": [
    "### >Testing model on test dataset:"
   ]
  },
  {
   "cell_type": "code",
   "execution_count": 272,
   "metadata": {},
   "outputs": [
    {
     "data": {
      "text/html": [
       "<div>\n",
       "<style scoped>\n",
       "    .dataframe tbody tr th:only-of-type {\n",
       "        vertical-align: middle;\n",
       "    }\n",
       "\n",
       "    .dataframe tbody tr th {\n",
       "        vertical-align: top;\n",
       "    }\n",
       "\n",
       "    .dataframe thead th {\n",
       "        text-align: right;\n",
       "    }\n",
       "</style>\n",
       "<table border=\"1\" class=\"dataframe\">\n",
       "  <thead>\n",
       "    <tr style=\"text-align: right;\">\n",
       "      <th></th>\n",
       "      <th>tweet_id</th>\n",
       "      <th>tweet_text</th>\n",
       "    </tr>\n",
       "  </thead>\n",
       "  <tbody>\n",
       "    <tr>\n",
       "      <td>0</td>\n",
       "      <td>264238274963451904</td>\n",
       "      <td>@jjuueellzz down in the Atlantic city, ventnor...</td>\n",
       "    </tr>\n",
       "    <tr>\n",
       "      <td>1</td>\n",
       "      <td>218775148495515649</td>\n",
       "      <td>Musical awareness: Great Big Beautiful Tomorro...</td>\n",
       "    </tr>\n",
       "    <tr>\n",
       "      <td>2</td>\n",
       "      <td>258965201766998017</td>\n",
       "      <td>On Radio786 100.4fm 7:10 Fri Oct 19 Labour ana...</td>\n",
       "    </tr>\n",
       "    <tr>\n",
       "      <td>3</td>\n",
       "      <td>262926411352903682</td>\n",
       "      <td>Kapan sih lo ngebuktiin,jan ngomong doang Susa...</td>\n",
       "    </tr>\n",
       "    <tr>\n",
       "      <td>4</td>\n",
       "      <td>171874368908050432</td>\n",
       "      <td>Excuse the connectivity of this live stream, f...</td>\n",
       "    </tr>\n",
       "  </tbody>\n",
       "</table>\n",
       "</div>"
      ],
      "text/plain": [
       "             tweet_id                                         tweet_text\n",
       "0  264238274963451904  @jjuueellzz down in the Atlantic city, ventnor...\n",
       "1  218775148495515649  Musical awareness: Great Big Beautiful Tomorro...\n",
       "2  258965201766998017  On Radio786 100.4fm 7:10 Fri Oct 19 Labour ana...\n",
       "3  262926411352903682  Kapan sih lo ngebuktiin,jan ngomong doang Susa...\n",
       "4  171874368908050432  Excuse the connectivity of this live stream, f..."
      ]
     },
     "execution_count": 272,
     "metadata": {},
     "output_type": "execute_result"
    },
    {
     "name": "stdout",
     "output_type": "stream",
     "text": [
      "Building Features for the test data set:\n",
      "\n",
      "After preprocessing: \n",
      " ['atlantic city ventnor margate ocean city area wait coordinator hopefully call tomorrow', 'musical awareness great big beautiful tomorrow end time', 'radio fm fri oct labour analyst shawn hattingh cosatu role context unrest mine pjzzl', 'kapan sih lo ngebuktiin jan ngomong doang susah susah usaha aja blm udh nyerah inget never try shall never know cowok kok gentle bgt', 'excuse connectivity live stream baba amr many activists use one sit modem live ihz homs'] \n",
      "\n",
      "Shape of testing features :  (5398, 24218)\n",
      "\n",
      "Testing the performance.....\n",
      "\n",
      "Results:\n",
      "                tweet_id sentiment\n",
      "0     264238274963451904  positive\n",
      "1     218775148495515649  positive\n",
      "2     258965201766998017   neutral\n",
      "3     262926411352903682   neutral\n",
      "4     171874368908050432   neutral\n",
      "...                  ...       ...\n",
      "5393  210378118865756160   neutral\n",
      "5394  245177521304399872  positive\n",
      "5395  259280987089932288   neutral\n",
      "5396  201113950211940352   neutral\n",
      "5397  237999067286876160  positive\n",
      "\n",
      "[5398 rows x 2 columns]\n",
      "Analysis on the test dataset..\n",
      "\n",
      "Majority Neutral Sentiment.\n",
      "Percentage =  54.94627639866617\n"
     ]
    }
   ],
   "source": [
    "test_data.head()\n",
    "test_data['tweet_text'] = test_data['tweet_text'].apply(dataclean)\n",
    "\n",
    "print(\"Building Features for the test data set:\\n\")\n",
    "test_list = []\n",
    "for tweet in test_data['tweet_text']:\n",
    "  test_list.append(preprocess(tweet))\n",
    "print(\"After preprocessing: \\n\", test_list[:5], \"\\n\")\n",
    "\n",
    "test_vectors = vectorizer.transform(test_list)\n",
    "print(\"Shape of testing features : \",test_vectors.shape)\n",
    "\n",
    "print(\"\\nTesting the performance.....\\n\")\n",
    "from sklearn.metrics import classification_report, confusion_matrix, accuracy_score\n",
    "predicted = model_SVM.predict(test_vectors)\n",
    "\n",
    "print(\"Results:\")\n",
    "results = pd.DataFrame({'tweet_id' : test_data['tweet_id'].astype(str), 'sentiment' : predicted}, \n",
    "                       columns = ['tweet_id', 'sentiment'])\n",
    "print(results)\n",
    "results.to_csv(\"results_SVM.csv\", sep= \",\", index = False)\n",
    "\n",
    "print(\"Analysis on the test dataset..\")\n",
    "d = results['sentiment'].value_counts(normalize = True) * 100\n",
    "if (d.index[np.argmax(d.values)] == 'positive'): \n",
    "  print(\"\\nMajority Positive Sentiment.\")\n",
    "  print(\"Percentage = \", d.values[np.argmax(d.values)])\n",
    "elif (d.index[np.argmax(d.values)] == 'negative'): \n",
    "  print(\"\\nMajority Negative Sentiment.\")\n",
    "  print(\"Percentage = \", d.values[np.argmax(d.values)])\n",
    "else:\n",
    "  print(\"\\nMajority Neutral Sentiment.\")\n",
    "  print(\"Percentage = \", d.values[np.argmax(d.values)])  "
   ]
  },
  {
   "cell_type": "markdown",
   "metadata": {},
   "source": [
    "### SVM Model predicts major sentiments as Neutral, 54.94%"
   ]
  }
 ],
 "metadata": {
  "kernelspec": {
   "display_name": "Python 3 (ipykernel)",
   "language": "python",
   "name": "python3"
  },
  "language_info": {
   "codemirror_mode": {
    "name": "ipython",
    "version": 3
   },
   "file_extension": ".py",
   "mimetype": "text/x-python",
   "name": "python",
   "nbconvert_exporter": "python",
   "pygments_lexer": "ipython3",
   "version": "3.7.4"
  }
 },
 "nbformat": 4,
 "nbformat_minor": 4
}
